{
 "cells": [
  {
   "cell_type": "code",
   "execution_count": 27,
   "metadata": {},
   "outputs": [
    {
     "name": "stdout",
     "output_type": "stream",
     "text": [
      "Successfully imported ARCCompressor modules!\n"
     ]
    }
   ],
   "source": [
    "import torch\n",
    "import numpy as np\n",
    "import json\n",
    "import sys\n",
    "import os\n",
    "\n",
    "# Add the project directory to Python path to import local modules\n",
    "# sys.path.append(os.path.dirname(os.path.abspath(__file__)))\n",
    "\n",
    "# Try to import the actual ARCCompressor modules\n",
    "try:\n",
    "    from preprocessing import Task\n",
    "    from multitensor_systems import MultiTensorSystem, MultiTensor\n",
    "    from layers import *\n",
    "    from initializers import Initializer\n",
    "    from arc_compressor import ARCCompressor\n",
    "    print(\"Successfully imported ARCCompressor modules!\")\n",
    "except ImportError as e:\n",
    "    print(f\"Could not import ARCCompressor modules: {e}\")\n",
    "    print(\"Make sure you're running this from the ARCCompressor directory\")\n",
    "    sys.exit(1)\n",
    "\n",
    "torch.set_default_dtype(torch.float32)\n",
    "torch.manual_seed(42)\n",
    "\n",
    "def create_sample_task():\n",
    "    \"\"\"Create a sample task for demonstration\"\"\"\n",
    "    # Create a simple ARC-like task\n",
    "    sample_problem = {\n",
    "        \"train\": [\n",
    "            {\n",
    "                \"input\": [[0, 1], [1, 0]],\n",
    "                \"output\": [[1, 0], [0, 1]]\n",
    "            },\n",
    "            {\n",
    "                \"input\": [[1, 0], [0, 1]], \n",
    "                \"output\": [[0, 1,2], [1, 5,4]]\n",
    "            }\n",
    "        ],\n",
    "        \"test\": [\n",
    "            {\n",
    "                \"input\": [[0, 0], [1, 1]],\n",
    "                \"output\": [[1, 1], [0, 0]]\n",
    "            }\n",
    "        ]\n",
    "    }\n",
    "    \n",
    "    sample_solution = [[[1, 1], [0, 0]]]  # Solution for the test case\n",
    "    \n",
    "\n",
    "    return Task(\"demo_task\", sample_problem, sample_solution)"
   ]
  },
  {
   "cell_type": "code",
   "execution_count": 28,
   "metadata": {},
   "outputs": [
    {
     "name": "stdout",
     "output_type": "stream",
     "text": [
      "Created task with 2 training examples and 1 test examples\n",
      "Grid dimensions: 2 x 3\n",
      "Colors: 4\n",
      "\n",
      "MultiTensor system dimensions: [3, 4, 8, 2, 3]\n",
      "Number of valid tensor combinations: 18\n"
     ]
    }
   ],
   "source": [
    "task = create_sample_task()\n",
    "print(f\"Created task with {task.n_train} training examples and {task.n_test} test examples\")\n",
    "print(f\"Grid dimensions: {task.n_x} x {task.n_y}\")\n",
    "print(f\"Colors: {task.n_colors}\")\n",
    "\n",
    "# Create multitensor system\n",
    "system = task.multitensor_system\n",
    "print(f\"\\nMultiTensor system dimensions: {system.dim_lengths}\")\n",
    "\n",
    "# Get valid dimension combinations\n",
    "valid_dims = list(system)\n",
    "print(f\"Number of valid tensor combinations: {len(valid_dims)}\")"
   ]
  },
  {
   "cell_type": "code",
   "execution_count": 32,
   "metadata": {},
   "outputs": [
    {
     "data": {
      "text/plain": [
       "torch.Size([3, 2, 3, 2])"
      ]
     },
     "execution_count": 32,
     "metadata": {},
     "output_type": "execute_result"
    }
   ],
   "source": [
    "task.masks # example, x, y, input/output"
   ]
  },
  {
   "cell_type": "code",
   "execution_count": 13,
   "metadata": {},
   "outputs": [
    {
     "name": "stdout",
     "output_type": "stream",
     "text": [
      "[3, 4, 2, 3]\n",
      "[3, 4, 2, 3, 8]\n"
     ]
    }
   ],
   "source": [
    "dims = [1, 1, 0, 1, 1]\n",
    "print(system.shape(dims))  # Returns shape like [n_examples, n_colors, n_x, n_y]\n",
    "print(system.shape(dims, extra_dim=8))  # Add channel dimension"
   ]
  },
  {
   "cell_type": "code",
   "execution_count": 16,
   "metadata": {},
   "outputs": [],
   "source": [
    "import layers\n",
    "self = \n",
    "x, KL_amounts, KL_names = layers.decode_latents(\n",
    "            self.target_capacities, self.decode_weights, self.multiposteriors\n",
    "        )"
   ]
  },
  {
   "cell_type": "code",
   "execution_count": 18,
   "metadata": {},
   "outputs": [],
   "source": [
    "multitensor[dims]"
   ]
  },
  {
   "cell_type": "code",
   "execution_count": null,
   "metadata": {},
   "outputs": [],
   "source": []
  }
 ],
 "metadata": {
  "kernelspec": {
   "display_name": "base",
   "language": "python",
   "name": "python3"
  },
  "language_info": {
   "codemirror_mode": {
    "name": "ipython",
    "version": 3
   },
   "file_extension": ".py",
   "mimetype": "text/x-python",
   "name": "python",
   "nbconvert_exporter": "python",
   "pygments_lexer": "ipython3",
   "version": "3.12.7"
  }
 },
 "nbformat": 4,
 "nbformat_minor": 2
}
