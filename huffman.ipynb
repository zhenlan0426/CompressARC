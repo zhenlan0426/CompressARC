{
 "cells": [
  {
   "cell_type": "code",
   "execution_count": 29,
   "metadata": {},
   "outputs": [],
   "source": [
    "import heapq\n",
    "class TreeNode:\n",
    "    def __init__(self, freq, char=None):\n",
    "        self.char = char\n",
    "        self.freq = freq\n",
    "        self.left = None\n",
    "        self.right = None\n",
    "\n",
    "    def __lt__(self, other):\n",
    "        return self.freq < other.freq\n",
    "\n",
    "def build_huffman_tree(chars, freqs):\n",
    "    nodes = [TreeNode(freq, char) for char, freq in zip(chars, freqs)]\n",
    "    heapq.heapify(nodes)\n",
    "    while len(nodes) > 1:\n",
    "        a = heapq.heappop(nodes)\n",
    "        b = heapq.heappop(nodes)\n",
    "        merged = TreeNode(a.freq + b.freq)\n",
    "        merged.left = a\n",
    "        merged.right = b\n",
    "        heapq.heappush(nodes, merged)\n",
    "    return nodes[0]\n",
    "\n",
    "def build_mapping(node):\n",
    "    mapping = {}\n",
    "    def dfs(node, cur_list):\n",
    "        # base case\n",
    "        if node.char is not None:\n",
    "            mapping[node.char] = \"\".join(cur_list)\n",
    "            return\n",
    "        dfs(node.left, cur_list+['0'])\n",
    "        dfs(node.right, cur_list+['1'])\n",
    "    dfs(node,[])\n",
    "    return mapping\n",
    "\n",
    "def encode(chars, mapp):\n",
    "    return \"\".join([mapp[char] for char in chars])\n",
    "\n",
    "def decode(chars, root):\n",
    "    out = []\n",
    "    tree = root\n",
    "    for char in chars:\n",
    "        if char == \"0\":\n",
    "            tree = tree.left\n",
    "        else:\n",
    "            tree = tree.right\n",
    "        if tree.char is not None:\n",
    "            out.append(tree.char)\n",
    "            tree = root\n",
    "    return \"\".join(out)"
   ]
  },
  {
   "cell_type": "code",
   "execution_count": 2,
   "metadata": {},
   "outputs": [],
   "source": [
    "chars = ['a', 'b', 'c', 'd', 'e', 'f']\n",
    "freqs = [0.1, 0.2, 0.3, 0.05, 0.05, 0.3]\n",
    "root = build_huffman_tree(chars, freqs)"
   ]
  },
  {
   "cell_type": "code",
   "execution_count": 14,
   "metadata": {},
   "outputs": [
    {
     "data": {
      "text/plain": [
       "{'b': '00', 'a': '010', 'e': '0110', 'd': '0111', 'c': '10', 'f': '11'}"
      ]
     },
     "execution_count": 14,
     "metadata": {},
     "output_type": "execute_result"
    }
   ],
   "source": [
    "mapp = build_mapping(root)\n",
    "mapp"
   ]
  },
  {
   "cell_type": "code",
   "execution_count": 30,
   "metadata": {},
   "outputs": [
    {
     "data": {
      "text/plain": [
       "'0101011'"
      ]
     },
     "execution_count": 30,
     "metadata": {},
     "output_type": "execute_result"
    }
   ],
   "source": [
    "encode(\"acf\", mapp)"
   ]
  },
  {
   "cell_type": "code",
   "execution_count": 31,
   "metadata": {},
   "outputs": [
    {
     "data": {
      "text/plain": [
       "'acf'"
      ]
     },
     "execution_count": 31,
     "metadata": {},
     "output_type": "execute_result"
    }
   ],
   "source": [
    "decode(\"0101011\", root)"
   ]
  },
  {
   "cell_type": "code",
   "execution_count": 38,
   "metadata": {},
   "outputs": [
    {
     "data": {
      "text/plain": [
       "True"
      ]
     },
     "execution_count": 38,
     "metadata": {},
     "output_type": "execute_result"
    }
   ],
   "source": [
    "import numpy as np\n",
    "texts = \"\".join(np.random.choice(list(\"abcdef\"), 20))\n",
    "decode(encode(texts, mapp),root) == texts"
   ]
  }
 ],
 "metadata": {
  "kernelspec": {
   "display_name": "Python 3",
   "language": "python",
   "name": "python3"
  },
  "language_info": {
   "codemirror_mode": {
    "name": "ipython",
    "version": 3
   },
   "file_extension": ".py",
   "mimetype": "text/x-python",
   "name": "python",
   "nbconvert_exporter": "python",
   "pygments_lexer": "ipython3",
   "version": "3.10.12"
  }
 },
 "nbformat": 4,
 "nbformat_minor": 2
}
